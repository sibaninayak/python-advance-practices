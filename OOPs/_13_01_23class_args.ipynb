{
 "cells": [
  {
   "cell_type": "code",
   "execution_count": 4,
   "metadata": {},
   "outputs": [
    {
     "name": "stdout",
     "output_type": "stream",
     "text": [
      "kitty\n",
      "2023\n"
     ]
    }
   ],
   "source": [
    "class Python:\n",
    "    started = 2023\n",
    "    def getStudents(name):\n",
    "        return name\n",
    "\n",
    "print(Python.getStudents(name = \"kitty\"))\n",
    "print(Python.started)"
   ]
  },
  {
   "cell_type": "code",
   "execution_count": 7,
   "metadata": {},
   "outputs": [
    {
     "name": "stdout",
     "output_type": "stream",
     "text": [
      "sibani nayak\n"
     ]
    }
   ],
   "source": [
    "class Python:\n",
    "    def __init__(self,name):             \n",
    "        started = 2023\n",
    "        self.name = name\n",
    "    def getStudents(self):\n",
    "        return self.name\n",
    "\n",
    "students = Python(\"sibani nayak\")       #whatever value we will give here it will store in that name\n",
    "print(students.getStudents())"
   ]
  },
  {
   "cell_type": "code",
   "execution_count": 12,
   "metadata": {},
   "outputs": [
    {
     "name": "stdout",
     "output_type": "stream",
     "text": [
      "['kim namjoon', 'kim seokjin', 'min yoongi', 'jung hoseok', 'park jimin', 'kim taeyhyng', 'jeon jungkook']\n"
     ]
    }
   ],
   "source": [
    "class bangtan:\n",
    "    bts_year = 2013                   #outside the function then it is global\n",
    "    def __init__(self,name):            \n",
    "        self.started = 2013           #inside the function local\n",
    "        self.name = name\n",
    "    def getNames(self):\n",
    "        students = [\"kim namjoon\",\"kim seokjin\",\"min yoongi\",\"jung hoseok\",\"park jimin\",\"kim taeyhyng\",\"jeon jungkook\"]\n",
    "        return students\n",
    "\n",
    "members = bangtan(\"BTS\")       \n",
    "print(members.getNames())"
   ]
  },
  {
   "cell_type": "code",
   "execution_count": 1,
   "metadata": {},
   "outputs": [
    {
     "name": "stdout",
     "output_type": "stream",
     "text": [
      "sum of 20 + 10 = 30\n",
      "subtraction of 20 - 10 = 10\n",
      "multiple of 20 x 10 = 200\n",
      "division of 20 / 10 = 2.0\n"
     ]
    }
   ],
   "source": [
    "class Calculator:\n",
    "    def __init__(self,num1,num2):\n",
    "        self.num_1 = num1\n",
    "        self.num_2 = num2\n",
    "    def addition(self):\n",
    "        return f'sum of {self.num_1} + {self.num_2} = {self.num_1+self.num_2}'\n",
    "    def substraction(self):\n",
    "        return f'subtraction of {self.num_1} - {self.num_2} = {self.num_1-self.num_2}'\n",
    "    def multiplication(self):\n",
    "        return f'multiple of {self.num_1} x {self.num_2} = {self.num_1*self.num_2}'\n",
    "    def division(self):\n",
    "        return f'division of {self.num_1} / {self.num_2} = {self.num_1/self.num_2}'\n",
    "\n",
    "calc = Calculator(20,10)\n",
    "print(calc.addition())\n",
    "print(calc.substraction())\n",
    "print(calc.multiplication())\n",
    "print(calc.division())\n",
    "\n"
   ]
  }
 ],
 "metadata": {
  "kernelspec": {
   "display_name": "Python 3",
   "language": "python",
   "name": "python3"
  },
  "language_info": {
   "codemirror_mode": {
    "name": "ipython",
    "version": 3
   },
   "file_extension": ".py",
   "mimetype": "text/x-python",
   "name": "python",
   "nbconvert_exporter": "python",
   "pygments_lexer": "ipython3",
   "version": "3.11.1 (tags/v3.11.1:a7a450f, Dec  6 2022, 19:58:39) [MSC v.1934 64 bit (AMD64)]"
  },
  "orig_nbformat": 4,
  "vscode": {
   "interpreter": {
    "hash": "de47f5c92c0ee6f12a59a5613ac5feff6aab19ddff207ba0b3964cced08c4ccc"
   }
  }
 },
 "nbformat": 4,
 "nbformat_minor": 2
}
