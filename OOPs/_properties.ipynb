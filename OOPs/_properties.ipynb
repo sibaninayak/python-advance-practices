{
 "cells": [
  {
   "cell_type": "code",
   "execution_count": 4,
   "metadata": {},
   "outputs": [
    {
     "name": "stdout",
     "output_type": "stream",
     "text": [
      "mappingproxy({'__dict__': <attribute '__dict__' of 'kitty' objects>,\n",
      "              '__doc__': None,\n",
      "              '__module__': '__main__',\n",
      "              '__weakref__': <attribute '__weakref__' of 'kitty' objects>,\n",
      "              'age': 20,\n",
      "              'name': 'sibani'})\n",
      "sibani\n",
      "20\n"
     ]
    }
   ],
   "source": [
    "from pprint import pprint\n",
    "\n",
    "class kitty:\n",
    "    name = \"sibani\"\n",
    "    age = 20\n",
    "\n",
    "pprint(kitty.__dict__)\n",
    "\n",
    "print(kitty.name)\n",
    "print(kitty.age)\n",
    "\n",
    "\n",
    "\n",
    "#__ = donder method"
   ]
  },
  {
   "cell_type": "code",
   "execution_count": 5,
   "metadata": {},
   "outputs": [
    {
     "name": "stdout",
     "output_type": "stream",
     "text": [
      "True\n",
      "<__main__.Profile object at 0x00000217E7174D10>\n",
      "<class '__main__.Profile'>\n",
      "{'name': 'sibani nayak', 'college': 20, 'age': 'RIT'}\n",
      "mappingproxy({'__dict__': <attribute '__dict__' of 'Profile' objects>,\n",
      "              '__doc__': None,\n",
      "              '__init__': <function Profile.__init__ at 0x00000217E716BCE0>,\n",
      "              '__module__': '__main__',\n",
      "              '__weakref__': <attribute '__weakref__' of 'Profile' objects>,\n",
      "              'get_details': <function Profile.get_details at 0x00000217E716BC40>})\n"
     ]
    }
   ],
   "source": [
    "from pprint import pprint\n",
    "\n",
    "class Profile :\n",
    "    def __init__(self,name,age,college):\n",
    "        self.name = name\n",
    "        self.college = age\n",
    "        self.age = college\n",
    "    def get_details(self):\n",
    "        return f'i am {self.name} and i am {self.age} years old studying at {self.college}'\n",
    "    \n",
    "profile = Profile(name = \"sibani nayak\", age = 20 , college=\"RIT\")\n",
    "print(isinstance(profile,Profile))\n",
    "print(profile)\n",
    "print(Profile)\n",
    "\n",
    "print(profile.__dict__)\n",
    "pprint(Profile.__dict__)\n",
    "#print(profile.get_details())\n",
    "\n",
    "\n",
    "\n",
    " "
   ]
  },
  {
   "cell_type": "code",
   "execution_count": 12,
   "metadata": {},
   "outputs": [
    {
     "name": "stdout",
     "output_type": "stream",
     "text": [
      "True\n",
      "<__main__.Profile object at 0x00000217E71A5290>\n",
      "<class '__main__.Profile'>\n",
      "{'name': 'kitty', 'college': 20, 'age': 'RIT'}\n",
      "mappingproxy({'__dict__': <attribute '__dict__' of 'Profile' objects>,\n",
      "              '__doc__': None,\n",
      "              '__init__': <function Profile.__init__ at 0x00000217E716BCE0>,\n",
      "              '__module__': '__main__',\n",
      "              '__weakref__': <attribute '__weakref__' of 'Profile' objects>,\n",
      "              'get_details': <function Profile.get_details at 0x00000217E716BC40>})\n"
     ]
    }
   ],
   "source": [
    "from pprint import pprint\n",
    "\n",
    "class profile:\n",
    "    def __init__(self,name,age,college):\n",
    "        self.name =  name\n",
    "        self.age = age\n",
    "        self.college = college\n",
    "        \n",
    "\n",
    "    def  __str__(self):\n",
    "        return f'my name is {self.name} and my age is {self.age} years old.I am studying at {self.college}'\n",
    "        \n",
    "profile = Profile(name = \"kitty\", age = 20,college=\"RIT\")\n",
    "print(isinstance(profile,Profile))\n",
    "print(profile)\n",
    "pprint(Profile)\n",
    "\n",
    "print(profile.__dict__)\n",
    "pprint(Profile.__dict__)\n"
   ]
  },
  {
   "cell_type": "code",
   "execution_count": 17,
   "metadata": {},
   "outputs": [
    {
     "name": "stdout",
     "output_type": "stream",
     "text": [
      "<__main__.Profile object at 0x00000217E7646790>\n",
      "<class '__main__.Profile'>\n",
      "<class '__main__.Profile'>\n"
     ]
    }
   ],
   "source": [
    "from pprint import pprint\n",
    "\n",
    "class profile:\n",
    "    def __init__(self,name,age,college):\n",
    "        self.name =  name\n",
    "        self.age = age\n",
    "        self.college = college\n",
    "\n",
    "    def  __repr__(self):\n",
    "        return f'my name is {self.name} and my age is {self.age} years old.I am studying at {self.college}'\n",
    "    \n",
    "    def  __str__(self):           \n",
    "        return f'my name is {self.name} and my age is {self.age} years old.I am studying at {self.college}'   \n",
    "\n",
    "        \n",
    "profile = Profile(name = \"kitty\", age = 20,college=\"RIT\")\n",
    "#print(isinstance(profile,Profile))\n",
    "print(profile)\n",
    "pprint(Profile)\n",
    "\n",
    "#print(profile.__dict__)\n",
    "#pprint(Profile.__dict__)\n",
    "print(repr(Profile))\n"
   ]
  }
 ],
 "metadata": {
  "kernelspec": {
   "display_name": "Python 3",
   "language": "python",
   "name": "python3"
  },
  "language_info": {
   "codemirror_mode": {
    "name": "ipython",
    "version": 3
   },
   "file_extension": ".py",
   "mimetype": "text/x-python",
   "name": "python",
   "nbconvert_exporter": "python",
   "pygments_lexer": "ipython3",
   "version": "3.11.1"
  },
  "orig_nbformat": 4,
  "vscode": {
   "interpreter": {
    "hash": "de47f5c92c0ee6f12a59a5613ac5feff6aab19ddff207ba0b3964cced08c4ccc"
   }
  }
 },
 "nbformat": 4,
 "nbformat_minor": 2
}
