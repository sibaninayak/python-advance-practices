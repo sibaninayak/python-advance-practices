{
 "cells": [
  {
   "cell_type": "code",
   "execution_count": 14,
   "metadata": {},
   "outputs": [
    {
     "name": "stdout",
     "output_type": "stream",
     "text": [
      "jungkook\n",
      "error not happend\n"
     ]
    }
   ],
   "source": [
    "bangtan_boys = \"namjoon\" , \"seokjin\" , \"yoongi\" , \"jhope\" , \"jimin\" , \"taehyung\" , \"jungkook\"\n",
    "\n",
    "#print(len(bangtan_boys))\n",
    "#print(bangtan_boys[7])\n",
    "\n",
    "error_happend:bool =  False\n",
    "\n",
    "try:\n",
    "    print(bangtan_boys[6])\n",
    "except IndexError as error:\n",
    "    print(error)\n",
    "    if error:\n",
    "        error_happend = True\n",
    "finally:\n",
    "    print('error happend' if error_happend else 'error not happend')\n",
    "\n"
   ]
  },
  {
   "cell_type": "code",
   "execution_count": 10,
   "metadata": {},
   "outputs": [
    {
     "name": "stdout",
     "output_type": "stream",
     "text": [
      "error not happend\n"
     ]
    },
    {
     "ename": "IndexError",
     "evalue": "tuple index out of range",
     "output_type": "error",
     "traceback": [
      "\u001b[1;31m---------------------------------------------------------------------------\u001b[0m",
      "\u001b[1;31mIndexError\u001b[0m                                Traceback (most recent call last)",
      "Cell \u001b[1;32mIn[10], line 6\u001b[0m\n\u001b[0;32m      3\u001b[0m error_happend:\u001b[39mbool\u001b[39m \u001b[39m=\u001b[39m  \u001b[39mFalse\u001b[39;00m\n\u001b[0;32m      5\u001b[0m \u001b[39mtry\u001b[39;00m:\n\u001b[1;32m----> 6\u001b[0m     \u001b[39mprint\u001b[39m(bangtan_boys[\u001b[39m7\u001b[39;49m])\n\u001b[0;32m      8\u001b[0m \u001b[39mfinally\u001b[39;00m:\n\u001b[0;32m      9\u001b[0m     \u001b[39mprint\u001b[39m(\u001b[39m'\u001b[39m\u001b[39merror happend\u001b[39m\u001b[39m'\u001b[39m \u001b[39mif\u001b[39;00m error_happend \u001b[39melse\u001b[39;00m \u001b[39m'\u001b[39m\u001b[39merror not happend\u001b[39m\u001b[39m'\u001b[39m)\n",
      "\u001b[1;31mIndexError\u001b[0m: tuple index out of range"
     ]
    }
   ],
   "source": [
    "bangtan_boys = \"namjoon\" , \"seokjin\" , \"yoongi\" , \"jhope\" , \"jimin\" , \"taehyung\" , \"jungkook\"\n",
    "\n",
    "error_happend:bool =  False\n",
    "\n",
    "#HERE WE CAN WRITE EITHER EXCEPT OR FINALLY ELSE WE CAN WRITE BOTH\n",
    "try:\n",
    "    print(bangtan_boys[7])\n",
    "\n",
    "finally:\n",
    "    print('error happend' if error_happend else 'error not happend')"
   ]
  },
  {
   "cell_type": "code",
   "execution_count": 32,
   "metadata": {},
   "outputs": [
    {
     "name": "stdout",
     "output_type": "stream",
     "text": [
      "tuple index out of range\n",
      "error happend\n"
     ]
    },
    {
     "ename": "Exception",
     "evalue": "error happen",
     "output_type": "error",
     "traceback": [
      "\u001b[1;31m---------------------------------------------------------------------------\u001b[0m",
      "\u001b[1;31mIndexError\u001b[0m                                Traceback (most recent call last)",
      "Cell \u001b[1;32mIn[32], line 9\u001b[0m\n\u001b[0;32m      8\u001b[0m \u001b[39mtry\u001b[39;00m:\n\u001b[1;32m----> 9\u001b[0m     \u001b[39mprint\u001b[39m(bangtan_boys[\u001b[39m7\u001b[39;49m])\n\u001b[0;32m     10\u001b[0m \u001b[39mexcept\u001b[39;00m \u001b[39mIndexError\u001b[39;00m \u001b[39mas\u001b[39;00m error:\n",
      "\u001b[1;31mIndexError\u001b[0m: tuple index out of range",
      "\nDuring handling of the above exception, another exception occurred:\n",
      "\u001b[1;31mException\u001b[0m                                 Traceback (most recent call last)",
      "Cell \u001b[1;32mIn[32], line 14\u001b[0m\n\u001b[0;32m     12\u001b[0m \u001b[39mif\u001b[39;00m error:\n\u001b[0;32m     13\u001b[0m     error_happend \u001b[39m=\u001b[39m \u001b[39mTrue\u001b[39;00m\n\u001b[1;32m---> 14\u001b[0m     \u001b[39mraise\u001b[39;00m \u001b[39mException\u001b[39;00m(\u001b[39m'\u001b[39m\u001b[39merror happen\u001b[39m\u001b[39m'\u001b[39m)\n\u001b[0;32m     15\u001b[0m \u001b[39melse\u001b[39;00m:\n\u001b[0;32m     16\u001b[0m     error_happend \u001b[39m=\u001b[39m \u001b[39mFalse\u001b[39;00m\n",
      "\u001b[1;31mException\u001b[0m: error happen"
     ]
    }
   ],
   "source": [
    "bangtan_boys = \"namjoon\" , \"seokjin\" , \"yoongi\" , \"jhope\" , \"jimin\" , \"taehyung\" , \"jungkook\"\n",
    "\n",
    "#print(len(bangtan_boys))\n",
    "#print(bangtan_boys[7])\n",
    "\n",
    "error_happend:bool =  False\n",
    "\n",
    "try:\n",
    "    print(bangtan_boys[7])\n",
    "except IndexError as error:\n",
    "    print(error)\n",
    "    if error:\n",
    "        error_happend = True\n",
    "        raise IndexError('error happen')\n",
    "    else:\n",
    "        error_happend = False\n",
    "finally:\n",
    "    print('error happend' if error_happend else 'error not happend')"
   ]
  },
  {
   "attachments": {},
   "cell_type": "markdown",
   "metadata": {},
   "source": [
    "we can also write exception in any error name"
   ]
  },
  {
   "cell_type": "code",
   "execution_count": 31,
   "metadata": {},
   "outputs": [
    {
     "name": "stdout",
     "output_type": "stream",
     "text": [
      "<class 'IndexError'> - list index out of range\n",
      "Continue to run\n"
     ]
    }
   ],
   "source": [
    "colors = ['blcak', 'purple', 'blue']   #index number starts from 0\n",
    "\n",
    "try:\n",
    "    print(colors[3])\n",
    "    #lookuperror\n",
    "except LookupError as a:\n",
    "    print(a.__class__, '-', a)\n",
    "#except IndexError as e:\n",
    "    #print(e)\n",
    "\n",
    "\n",
    "print('Continue to run')"
   ]
  },
  {
   "cell_type": "code",
   "execution_count": 26,
   "metadata": {},
   "outputs": [
    {
     "ename": "ZeroDivisionError",
     "evalue": "division by zero",
     "output_type": "error",
     "traceback": [
      "\u001b[1;31m---------------------------------------------------------------------------\u001b[0m",
      "\u001b[1;31mZeroDivisionError\u001b[0m                         Traceback (most recent call last)",
      "Cell \u001b[1;32mIn[26], line 5\u001b[0m\n\u001b[0;32m      2\u001b[0m     \u001b[39mreturn\u001b[39;00m a \u001b[39m/\u001b[39m b\n\u001b[0;32m      4\u001b[0m \u001b[39m#if we divide any number with zero then it will show zero division error\u001b[39;00m\n\u001b[1;32m----> 5\u001b[0m c \u001b[39m=\u001b[39m division(\u001b[39m10\u001b[39;49m, \u001b[39m0\u001b[39;49m)\n",
      "Cell \u001b[1;32mIn[26], line 2\u001b[0m, in \u001b[0;36mdivision\u001b[1;34m(a, b)\u001b[0m\n\u001b[0;32m      1\u001b[0m \u001b[39mdef\u001b[39;00m \u001b[39mdivision\u001b[39m(a, b):\n\u001b[1;32m----> 2\u001b[0m     \u001b[39mreturn\u001b[39;00m a \u001b[39m/\u001b[39;49m b\n",
      "\u001b[1;31mZeroDivisionError\u001b[0m: division by zero"
     ]
    }
   ],
   "source": [
    "def division(a, b):\n",
    "    return a / b\n",
    "\n",
    "#if we divide any number with zero then it will show zero division error\n",
    "c = division(10, 0)"
   ]
  },
  {
   "cell_type": "code",
   "execution_count": 29,
   "metadata": {},
   "outputs": [
    {
     "name": "stdout",
     "output_type": "stream",
     "text": [
      "{'success': True, 'message': 'OK', 'result': 2.5}\n"
     ]
    }
   ],
   "source": [
    "def division(a, b):\n",
    "    try:\n",
    "        return {\n",
    "            'success': True,\n",
    "            'message': 'OK',\n",
    "            'result': a / b\n",
    "        }\n",
    "    #zero division error\n",
    "    except ZeroDivisionError as e:\n",
    "        return {\n",
    "            'success': False,\n",
    "            'message': 'b cannot be zero',\n",
    "            'result': None\n",
    "        }\n",
    "\n",
    "\n",
    "result = division(10, 4)\n",
    "print(result)"
   ]
  },
  {
   "cell_type": "code",
   "execution_count": 30,
   "metadata": {},
   "outputs": [
    {
     "name": "stdout",
     "output_type": "stream",
     "text": [
      "{'success': False, 'message': 'b cannot be zero', 'result': None}\n"
     ]
    }
   ],
   "source": [
    "def division(a, b):\n",
    "    try:\n",
    "        return {\n",
    "            'success': True,\n",
    "            'message': 'OK',\n",
    "            'result': a / b\n",
    "        }\n",
    "    #in zero division error here we can also write exception\n",
    "    except Exception as e:\n",
    "        return {\n",
    "            'success': False,\n",
    "            'message': 'b cannot be zero',\n",
    "            'result': None\n",
    "        }\n",
    "\n",
    "\n",
    "result = division(10, 0)\n",
    "print(result)"
   ]
  }
 ],
 "metadata": {
  "kernelspec": {
   "display_name": "Python 3",
   "language": "python",
   "name": "python3"
  },
  "language_info": {
   "codemirror_mode": {
    "name": "ipython",
    "version": 3
   },
   "file_extension": ".py",
   "mimetype": "text/x-python",
   "name": "python",
   "nbconvert_exporter": "python",
   "pygments_lexer": "ipython3",
   "version": "3.11.1"
  },
  "orig_nbformat": 4,
  "vscode": {
   "interpreter": {
    "hash": "de47f5c92c0ee6f12a59a5613ac5feff6aab19ddff207ba0b3964cced08c4ccc"
   }
  }
 },
 "nbformat": 4,
 "nbformat_minor": 2
}
