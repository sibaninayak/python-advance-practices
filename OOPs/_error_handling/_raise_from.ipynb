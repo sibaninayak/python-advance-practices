{
 "cells": [
  {
   "cell_type": "code",
   "execution_count": 3,
   "metadata": {},
   "outputs": [
    {
     "name": "stdout",
     "output_type": "stream",
     "text": [
      "syntax error\n",
      "['name error', 'syntax error', 'indentation error', 'range error']\n"
     ]
    }
   ],
   "source": [
    "class Error:\n",
    "    try:\n",
    "        errors = ['name error','syntax error','indentation error','range error']\n",
    "        print(errors[1])\n",
    "        print(errors)\n",
    "    except ValueError as err:\n",
    "        print(err)"
   ]
  },
  {
   "cell_type": "code",
   "execution_count": 7,
   "metadata": {},
   "outputs": [
    {
     "name": "stdout",
     "output_type": "stream",
     "text": [
      "list index out of range\n"
     ]
    }
   ],
   "source": [
    "#using class\n",
    "class Error:\n",
    "    try:\n",
    "        errors = ['name error','syntax error','indentation error','range error']\n",
    "        print(errors[5])\n",
    "       \n",
    "   # except ValueError as err:             #method1\n",
    "       # print(err)\n",
    "\n",
    "    #except Exception as err:               #method2\n",
    "    #    print(Exception.__class__,err)\n",
    "    except LookupError as err:              #method3\n",
    "        print(err)"
   ]
  },
  {
   "cell_type": "code",
   "execution_count": 11,
   "metadata": {},
   "outputs": [
    {
     "name": "stdout",
     "output_type": "stream",
     "text": [
      "k\n",
      "i\n",
      "t\n",
      "t\n",
      "y\n"
     ]
    }
   ],
   "source": [
    "#using function\n",
    "def Error(data:any):\n",
    "    if not data:\n",
    "        raise ValueError(\"error :\",\"you didn't provide any data\")\n",
    "    for i in data:\n",
    "        print(i)\n",
    "\n",
    "try:\n",
    "    Error(data = 'kitty')\n",
    "except Exception as e:\n",
    "    print(e)"
   ]
  },
  {
   "cell_type": "code",
   "execution_count": 14,
   "metadata": {},
   "outputs": [
    {
     "name": "stdout",
     "output_type": "stream",
     "text": [
      "a and b values are not provided!\n"
     ]
    }
   ],
   "source": [
    "def calc(a:int,b:int)->int:\n",
    "    try:\n",
    "        if not a and not b:\n",
    "            raise ValueError('a and b values are not provided!')\n",
    "        return a+b\n",
    "    except Exception as error:\n",
    "        print(error)\n",
    "\n",
    "calc(a=0,b=0)"
   ]
  },
  {
   "cell_type": "code",
   "execution_count": 20,
   "metadata": {},
   "outputs": [
    {
     "name": "stdout",
     "output_type": "stream",
     "text": [
      "0\n"
     ]
    }
   ],
   "source": [
    "def calc(a:int,b:int)->int:\n",
    "    try:\n",
    "       print(a*b)\n",
    "    except Exception as error:\n",
    "       raise ZeroDivisionError('values of a must be zero')from error\n",
    "\n",
    "calc(a=0,b=0)"
   ]
  },
  {
   "cell_type": "code",
   "execution_count": 26,
   "metadata": {},
   "outputs": [
    {
     "name": "stdout",
     "output_type": "stream",
     "text": [
      "14\n",
      "function calc is working fine\n"
     ]
    }
   ],
   "source": [
    "def calc(a: int,b:int)->int:\n",
    "    try:\n",
    "        print(a*b)\n",
    "\n",
    "    #except Exception as error:\n",
    "       # raise ZeroDivisionError('values of a must be zero')from error\n",
    "    \n",
    "    except Exception as error:\n",
    "        raise ZeroDivisionError('values of a must be zero')from None\n",
    "    \n",
    "try:\n",
    "    calc(a=2,b=7)\n",
    "except Exception as e:\n",
    "    print('default error :', e.__cause__)\n",
    "    print('custom error from args :',e.args[0])\n",
    "    print('custom error:',e)\n",
    "else:\n",
    "    print('function calc is working fine')\n"
   ]
  }
 ],
 "metadata": {
  "kernelspec": {
   "display_name": "Python 3",
   "language": "python",
   "name": "python3"
  },
  "language_info": {
   "codemirror_mode": {
    "name": "ipython",
    "version": 3
   },
   "file_extension": ".py",
   "mimetype": "text/x-python",
   "name": "python",
   "nbconvert_exporter": "python",
   "pygments_lexer": "ipython3",
   "version": "3.11.1"
  },
  "orig_nbformat": 4,
  "vscode": {
   "interpreter": {
    "hash": "de47f5c92c0ee6f12a59a5613ac5feff6aab19ddff207ba0b3964cced08c4ccc"
   }
  }
 },
 "nbformat": 4,
 "nbformat_minor": 2
}
