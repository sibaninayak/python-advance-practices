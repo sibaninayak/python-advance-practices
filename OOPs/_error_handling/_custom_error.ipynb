{
 "cells": [
  {
   "cell_type": "code",
   "execution_count": 1,
   "metadata": {},
   "outputs": [
    {
     "name": "stdout",
     "output_type": "stream",
     "text": [
      "39.2\n"
     ]
    }
   ],
   "source": [
    "def convert_celsius_to_fahrenheit(c:float):\n",
    "    return (c* 9/5) + 32\n",
    "\n",
    "print(convert_celsius_to_fahrenheit(4))"
   ]
  },
  {
   "cell_type": "code",
   "execution_count": 2,
   "metadata": {},
   "outputs": [
    {
     "name": "stdout",
     "output_type": "stream",
     "text": [
      "35.6\n"
     ]
    }
   ],
   "source": [
    "def convert_celsius_to_fahrenheit(c:float):\n",
    "    return (c* 9/5) + 32\n",
    "\n",
    "degree_celsius = float(input('enter the tempreture in celsius'))\n",
    "\n",
    "print(convert_celsius_to_fahrenheit(degree_celsius))"
   ]
  },
  {
   "cell_type": "code",
   "execution_count": 4,
   "metadata": {},
   "outputs": [],
   "source": [
    "def convert_celsius_to_fahrenheit(c:float)->float:\n",
    "    return(c*9/5) +32\n",
    "\n",
    "if __name__ == \"__main\":\n",
    "    try:\n",
    "        degree_celsius = float(input('enter the tempreture in celsius'))\n",
    "    except ValueError as err:\n",
    "        print(err.args[0])\n",
    "        print(err.__cause__)\n",
    "    else:\n",
    "        try:\n",
    "            print(convert_celsius_to_fahrenheit(degree_celsius))\n",
    "        finally:\n",
    "            print('finally block is running')"
   ]
  },
  {
   "cell_type": "code",
   "execution_count": 7,
   "metadata": {},
   "outputs": [],
   "source": [
    "class kitty_error(Exception):\n",
    "    min_f = 32\n",
    "    max_f = 212\n",
    "\n",
    "    def __init__(self, C:float, *args: object) -> None:\n",
    "        super().__init__(C,*args)\n",
    "        self.C = C\n",
    "\n",
    "    def __str__(self) -> str:\n",
    "        return f'The degree celsius : {self.C} is not in range between {self.min_f} and {self.max_f}'\n",
    "\n",
    "\n",
    "def convert_celsius_to_fahrenheit(c:float)->float:\n",
    "    if c < kitty_error.min_f or c > kitty_error.max_f:\n",
    "        raise kitty_error(c)\n",
    "    return(c*9/5) +32\n",
    "\n",
    "if __name__ == \"__main\":\n",
    "    try:\n",
    "        degree_celsius = float(input('enter the tempreture in celsius'))\n",
    "    except ValueError as err:\n",
    "        print(err.args[0])\n",
    "        print(err.__cause__)\n",
    "    else:\n",
    "        try:\n",
    "            f = convert_celsius_to_fahrenheit(degree_celsius)\n",
    "        except kitty_error as error:\n",
    "            print('error')\n",
    "        else:\n",
    "            print(f'{degree_celsius}° c is equals to {f}° fahrenehite')"
   ]
  }
 ],
 "metadata": {
  "kernelspec": {
   "display_name": "Python 3",
   "language": "python",
   "name": "python3"
  },
  "language_info": {
   "codemirror_mode": {
    "name": "ipython",
    "version": 3
   },
   "file_extension": ".py",
   "mimetype": "text/x-python",
   "name": "python",
   "nbconvert_exporter": "python",
   "pygments_lexer": "ipython3",
   "version": "3.11.1"
  },
  "orig_nbformat": 4,
  "vscode": {
   "interpreter": {
    "hash": "de47f5c92c0ee6f12a59a5613ac5feff6aab19ddff207ba0b3964cced08c4ccc"
   }
  }
 },
 "nbformat": 4,
 "nbformat_minor": 2
}
