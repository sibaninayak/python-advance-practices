{
 "cells": [
  {
   "cell_type": "code",
   "execution_count": 2,
   "metadata": {},
   "outputs": [
    {
     "name": "stdout",
     "output_type": "stream",
     "text": [
      "i am kitty sibani nayak\n",
      "my name is sibani nayak\n",
      "About\n",
      "this is a about class\n",
      "__main__\n",
      "<attribute '__weakref__' of 'About' objects>\n",
      "mappingproxy({'__dict__': <attribute '__dict__' of 'About' objects>,\n",
      "              '__doc__': 'this is a about class',\n",
      "              '__init__': <function About.__init__ at 0x000001EF63B50AE0>,\n",
      "              '__module__': '__main__',\n",
      "              '__repr__': <function About.__repr__ at 0x000001EF63B50CC0>,\n",
      "              '__str__': <function About.__str__ at 0x000001EF63B50C20>,\n",
      "              '__weakref__': <attribute '__weakref__' of 'About' objects>,\n",
      "              'getDetails': <function About.getDetails at 0x000001EF63B50B80>})\n"
     ]
    }
   ],
   "source": [
    "from pprint import pprint\n",
    "\n",
    "class About:\n",
    "    \"\"\"this is a about class\"\"\"\n",
    "\n",
    "\n",
    "    def __init__(self,name)->None :\n",
    "        self.name = name\n",
    "        \n",
    "    def getDetails(self,name):\n",
    "        return f'i am {name} {self.name}'\n",
    "\n",
    "    def __str__(self) -> str:\n",
    "        return f'my name is {self.name}'\n",
    "\n",
    "    def __repr__(self) -> str:\n",
    "        return f'i am from __repr__ function {self.name}'\n",
    "\n",
    "        \n",
    "\n",
    "\n",
    "about = About('sibani nayak');\n",
    "\n",
    "print(about.getDetails('kitty'))\n",
    "\n",
    "print(str(about))\n",
    "\n",
    "print(About.__name__)\n",
    "print(About.__doc__)\n",
    "print(About.__module__)\n",
    "print(About.__weakref__)\n",
    "pprint(About.__dict__)"
   ]
  }
 ],
 "metadata": {
  "kernelspec": {
   "display_name": "Python 3",
   "language": "python",
   "name": "python3"
  },
  "language_info": {
   "codemirror_mode": {
    "name": "ipython",
    "version": 3
   },
   "file_extension": ".py",
   "mimetype": "text/x-python",
   "name": "python",
   "nbconvert_exporter": "python",
   "pygments_lexer": "ipython3",
   "version": "3.11.1"
  },
  "orig_nbformat": 4,
  "vscode": {
   "interpreter": {
    "hash": "de47f5c92c0ee6f12a59a5613ac5feff6aab19ddff207ba0b3964cced08c4ccc"
   }
  }
 },
 "nbformat": 4,
 "nbformat_minor": 2
}
