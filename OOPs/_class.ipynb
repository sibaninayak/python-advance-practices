{
 "cells": [
  {
   "cell_type": "code",
   "execution_count": 4,
   "metadata": {},
   "outputs": [
    {
     "name": "stdout",
     "output_type": "stream",
     "text": [
      "I AM OUTSIDE CLASS VARIABLE\n",
      "kitty\n",
      "<class 'type'>\n"
     ]
    }
   ],
   "source": [
    "outsideclass = \"i am outside class variable\"\n",
    "\n",
    "class Str:\n",
    "    def upper():                #captail letter\n",
    "        return outsideclass.upper()\n",
    "    def lower():\n",
    "        return 'kitty'.lower()\n",
    "print(Str.upper())\n",
    "print(Str.lower())                   \n",
    "print(type(Str))"
   ]
  },
  {
   "cell_type": "code",
   "execution_count": 16,
   "metadata": {},
   "outputs": [
    {
     "name": "stdout",
     "output_type": "stream",
     "text": [
      "i am inside variable\n",
      "I AM OUTSIDE CLASS VARIABLE\n",
      "I am a capitalize variable\n"
     ]
    }
   ],
   "source": [
    "outsideclass = \"i am outside class variable\"\n",
    "\n",
    "class Str:\n",
    "    #if we have to write inside the function we have to write init method\n",
    "    def __init__(self,str):\n",
    "        self.insideclass = \"i am inside variable\"\n",
    "        self.str = str\n",
    "    def upper(self):                #capital letter\n",
    "        return outsideclass.upper()\n",
    "    def lower(self):                 #small letter\n",
    "        return self.insideclass.lower()\n",
    "    def capitalize(self):            #first letter capital\n",
    "        return self.str.capitalize()\n",
    "\n",
    "#to print init we have to take another variable\n",
    "string = Str(\"i am a capitalize variable\")\n",
    "print(string.lower())\n",
    "print(string.upper())\n",
    "print(string.capitalize())\n"
   ]
  },
  {
   "cell_type": "code",
   "execution_count": 3,
   "metadata": {},
   "outputs": [
    {
     "name": "stdout",
     "output_type": "stream",
     "text": [
      "sibani nayak\n",
      "20\n",
      "20\n",
      "sibani nayak\n",
      "roland institute of technology\n",
      "CSE\n"
     ]
    }
   ],
   "source": [
    "class Str:\n",
    "    my_name = \"sibani nayak\"\n",
    "    age = 20\n",
    "\n",
    "string = Str()\n",
    "   \n",
    "#print(string.my_name)\n",
    "#print(string.age)\n",
    "\n",
    "#getattribute method\n",
    "print(string.__getattribute__(\"my_name\"))\n",
    "print(string.__getattribute__(\"age\"))\n",
    "\n",
    "#2nd method to write attribute\n",
    "print(getattr(string,\"age\"))\n",
    "print(getattr(string,\"my_name\"))\n",
    "\n",
    "#set attribute\n",
    "string.college = \"roland institute of technology\"\n",
    "string.__setattr__('branch' , 'CSE')\n",
    "print(string.college)\n",
    "print(string.__getattribute__('branch'))\n",
    "\n",
    "#del attribute\n",
    "#string.__delattr__('branch')\n",
    "#print(string.branch)"
   ]
  },
  {
   "cell_type": "code",
   "execution_count": 6,
   "metadata": {},
   "outputs": [
    {
     "name": "stdout",
     "output_type": "stream",
     "text": [
      "__main__\n",
      "MyProfile\n"
     ]
    }
   ],
   "source": [
    "print(__name__)\n",
    "\n",
    "class MyProfile :\n",
    "    def __init__(self,name,age,college):\n",
    "        self.name = name\n",
    "        self.age = age\n",
    "        self.college = college\n",
    "    def getDetails(self):\n",
    "        return f'i am {self.name}'\n",
    "\n",
    "profile = MyProfile(\"sibani nayak\",20,\"RIT\")\n",
    "print(MyProfile.__name__)"
   ]
  }
 ],
 "metadata": {
  "kernelspec": {
   "display_name": "Python 3",
   "language": "python",
   "name": "python3"
  },
  "language_info": {
   "codemirror_mode": {
    "name": "ipython",
    "version": 3
   },
   "file_extension": ".py",
   "mimetype": "text/x-python",
   "name": "python",
   "nbconvert_exporter": "python",
   "pygments_lexer": "ipython3",
   "version": "3.11.1"
  },
  "orig_nbformat": 4,
  "vscode": {
   "interpreter": {
    "hash": "de47f5c92c0ee6f12a59a5613ac5feff6aab19ddff207ba0b3964cced08c4ccc"
   }
  }
 },
 "nbformat": 4,
 "nbformat_minor": 2
}
