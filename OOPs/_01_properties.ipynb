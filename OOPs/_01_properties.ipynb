{
 "cells": [
  {
   "cell_type": "code",
   "execution_count": 2,
   "metadata": {},
   "outputs": [
    {
     "name": "stdout",
     "output_type": "stream",
     "text": [
      "i am sibani nayak and i am 20 years old.\n",
      "i am soubhagya kumar nayak and i am 25 years old.\n"
     ]
    }
   ],
   "source": [
    "class About:\n",
    "    #instance attribute\n",
    "    def __init__(self,name,age):\n",
    "        self._name = name\n",
    "        self._age = age\n",
    "# _ (secure)\n",
    "\n",
    "     #instance methods\n",
    "    def get_details(self):\n",
    "        return f'i am {self._name} and i am {self._age} years old.'\n",
    "\n",
    "#constructor\n",
    "kitty =  About(name = \"sibani nayak\",age=20)\n",
    "lucky = About(name = \"soubhagya kumar nayak\", age = 25)\n",
    "\n",
    "kitty.age = 21\n",
    "kitty.name = 'kitty'\n",
    "\n",
    "print(kitty.get_details())\n",
    "print(lucky.get_details())"
   ]
  },
  {
   "cell_type": "code",
   "execution_count": 18,
   "metadata": {},
   "outputs": [
    {
     "name": "stdout",
     "output_type": "stream",
     "text": [
      "i am sibani nayak and i am 21 years old.\n",
      "i am soubhagya kumar nayak and i am 25 years old.\n",
      "<__main__.About object at 0x00000231F5958A50>\n",
      "<class 'type'>\n"
     ]
    }
   ],
   "source": [
    "class About:\n",
    "    #instance attribute\n",
    "    def __init__(self,name,age):\n",
    "        self._name = name\n",
    "        self.age = age\n",
    "# _ (secure)\n",
    "\n",
    "     #instance methods\n",
    "    def get_details(self):\n",
    "        return f'i am {self._name} and i am {self.age} years old.'\n",
    "\n",
    "#constructor\n",
    "kitty =  About(name = \"sibani nayak\",age=20)\n",
    "lucky = About(name = \"soubhagya kumar nayak\", age = 25)\n",
    "\n",
    "kitty.age = 21\n",
    "kitty.name = 'kitty'\n",
    "\n",
    "print(kitty.get_details())\n",
    "print(lucky.get_details())\n",
    "print(lucky)\n",
    "print(type(About))"
   ]
  },
  {
   "cell_type": "code",
   "execution_count": 15,
   "metadata": {},
   "outputs": [
    {
     "name": "stdout",
     "output_type": "stream",
     "text": [
      "my name is kitty and i am biiggest fan of Bangtan boys\n",
      "my bias is kim taehyung jeon jungkook\n"
     ]
    }
   ],
   "source": [
    "#set\n",
    "\n",
    "class BTS:\n",
    "    def __init__(self,name):\n",
    "        self.name = name\n",
    "\n",
    "    def set_name(self,name):\n",
    "        return f'my bias is {name} {self.name}'\n",
    "    \n",
    "    def get_details(self):\n",
    "        return f'my name is kitty and i am biiggest fan of {self.name}'\n",
    "\n",
    "#constructor\n",
    "Army = BTS(\"Bangtan boys\")\n",
    "Armys = BTS(\"jeon jungkook\")\n",
    "print(Army.get_details())\n",
    "\n",
    "#Army.set_name(\"jimin\")\n",
    "print(Armys.set_name(\"kim taehyung\"))"
   ]
  },
  {
   "cell_type": "code",
   "execution_count": 20,
   "metadata": {},
   "outputs": [
    {
     "name": "stdout",
     "output_type": "stream",
     "text": [
      "i am kitty and i am 20 years old.\n"
     ]
    }
   ],
   "source": [
    "class About:\n",
    "    #instance attribute\n",
    "    def __init__(self,name,age):\n",
    "        self._name = name\n",
    "        self.age = age\n",
    "   \n",
    "    def set_values(self,name,age):\n",
    "        self.name = name\n",
    "        self.age = age\n",
    "    \n",
    "    def get_values(self,name,age):\n",
    "        return self.name , self.age\n",
    "    #instance method\n",
    "    \n",
    "    def get_details(self):\n",
    "        return f'i am {self.name} and i am {self.age} years old.'\n",
    "    \n",
    "    \n",
    "    details = property(fset=set_values,fget=get_values)\n",
    "\n",
    "#constructor\n",
    "kitty =  About(name = \"sibani nayak\",age=20)\n",
    "\n",
    "kitty.name = 'kitty'\n",
    "\n",
    "print(kitty.get_details())\n"
   ]
  },
  {
   "cell_type": "code",
   "execution_count": 23,
   "metadata": {},
   "outputs": [
    {
     "name": "stdout",
     "output_type": "stream",
     "text": [
      "<property object at 0x00000231F54ACC20>\n",
      "<property object at 0x00000231F54ADD50>\n",
      "{'_name': 'sibani', 'age': 21, 'name': 'kitty'}\n",
      "mappingproxy({'__dict__': <attribute '__dict__' of 'About' objects>,\n",
      "              '__doc__': None,\n",
      "              '__init__': <function About.__init__ at 0x00000231F59BE2A0>,\n",
      "              '__module__': '__main__',\n",
      "              '__weakref__': <attribute '__weakref__' of 'About' objects>,\n",
      "              'ages': <property object at 0x00000231F54ACC20>,\n",
      "              'get_age': <function About.get_age at 0x00000231F59BE160>,\n",
      "              'get_name': <function About.get_name at 0x00000231F59BE7A0>,\n",
      "              'names': <property object at 0x00000231F54ADD50>,\n",
      "              'set_age': <function About.set_age at 0x00000231F59BE700>,\n",
      "              'set_name': <function About.set_name at 0x00000231F59BD4E0>})\n"
     ]
    }
   ],
   "source": [
    "from pprint import pprint\n",
    "class About:\n",
    "    \n",
    "    #instance attribute\n",
    "    def __init__(self,name,age):\n",
    "        self._name = name\n",
    "        self.age = age\n",
    "   \n",
    "    def set_age(self,age):\n",
    "        if not age:\n",
    "            raise ValueError('age is required')\n",
    "        else:\n",
    "            self.age = age\n",
    "    \n",
    "    def get_age(self):\n",
    "        return self.age\n",
    "\n",
    "    def set_name(self,name):\n",
    "        if not name:\n",
    "            raise ValueError('name is required')\n",
    "        else:\n",
    "            self.name = name\n",
    "\n",
    "    def get_name(self,name):\n",
    "        return self.name\n",
    "    \n",
    "    ages = property(fset=set_age,fget=get_age)\n",
    "    names = property(fset=set_name,fget=get_name)\n",
    "#constructor\n",
    "kitty = About(name = \"sibani\",age = 20)\n",
    "kitty.names = 'kitty'\n",
    "kitty.ages = 21\n",
    "\n",
    "print(About.ages)\n",
    "print(About.names)\n",
    "\n",
    "print(kitty.__dict__)\n",
    "pprint(About.__dict__)"
   ]
  },
  {
   "cell_type": "code",
   "execution_count": 26,
   "metadata": {},
   "outputs": [
    {
     "name": "stdout",
     "output_type": "stream",
     "text": [
      "my name is kitty and i am biiggest fan of Bangtan boys\n",
      "my bias is kim taehyung jeon jungkook\n",
      "mappingproxy({'__dict__': <attribute '__dict__' of 'BTS' objects>,\n",
      "              '__doc__': None,\n",
      "              '__init__': <function BTS.__init__ at 0x00000231F5467600>,\n",
      "              '__module__': '__main__',\n",
      "              '__weakref__': <attribute '__weakref__' of 'BTS' objects>,\n",
      "              'band': <class '__main__.BTS'>,\n",
      "              'get_details': <function BTS.get_details at 0x00000231F5466DE0>,\n",
      "              'member1': 'kim namjoon',\n",
      "              'member2': 'kim seokjin',\n",
      "              'member3': 'kim min yoongi',\n",
      "              'member4': 'jung hoseok',\n",
      "              'member5': 'park jimin',\n",
      "              'member6': 'kim taehyung',\n",
      "              'member7': 'jeon jungkook',\n",
      "              'myself': ' bts army',\n",
      "              'set_name': <function BTS.set_name at 0x00000231F54659E0>,\n",
      "              'total_members': 7})\n"
     ]
    }
   ],
   "source": [
    "from pprint import pprint\n",
    "class BTS:\n",
    "    band = BTS\n",
    "    total_members = 7\n",
    "    member1 = \"kim namjoon\"\n",
    "    member2 = \"kim seokjin\"\n",
    "    member3 = \"kim min yoongi\"\n",
    "    member4 = \"jung hoseok\"\n",
    "    member5 = \"park jimin\"\n",
    "    member6 = \"kim taehyung\"\n",
    "    member7 = \"jeon jungkook\"\n",
    "    myself = \" bts army\"\n",
    "    def __init__(self,name):\n",
    "        self.name = name\n",
    "\n",
    "    def set_name(self,name):\n",
    "        return f'my bias is {name} {self.name}'\n",
    "    \n",
    "    def get_details(self):\n",
    "        return f'my name is kitty and i am biiggest fan of {self.name}'\n",
    "\n",
    "#constructor\n",
    "Army = BTS(\"Bangtan boys\")\n",
    "Armys = BTS(\"jeon jungkook\")\n",
    "print(Army.get_details())\n",
    "\n",
    "#Army.set_name(\"jimin\")\n",
    "print(Armys.set_name(\"kim taehyung\"))\n",
    "pprint(BTS.__dict__)"
   ]
  }
 ],
 "metadata": {
  "kernelspec": {
   "display_name": "Python 3",
   "language": "python",
   "name": "python3"
  },
  "language_info": {
   "codemirror_mode": {
    "name": "ipython",
    "version": 3
   },
   "file_extension": ".py",
   "mimetype": "text/x-python",
   "name": "python",
   "nbconvert_exporter": "python",
   "pygments_lexer": "ipython3",
   "version": "3.11.1"
  },
  "orig_nbformat": 4,
  "vscode": {
   "interpreter": {
    "hash": "de47f5c92c0ee6f12a59a5613ac5feff6aab19ddff207ba0b3964cced08c4ccc"
   }
  }
 },
 "nbformat": 4,
 "nbformat_minor": 2
}
