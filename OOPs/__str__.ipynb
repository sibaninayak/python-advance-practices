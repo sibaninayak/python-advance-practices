{
 "cells": [
  {
   "cell_type": "code",
   "execution_count": 18,
   "metadata": {},
   "outputs": [
    {
     "name": "stdout",
     "output_type": "stream",
     "text": [
      "my name is Sibani nayak\n",
      "my name is kitty nd im a gd girl {self.name}\n",
      "<__main__.About object at 0x000002B04300F0D0>\n",
      "mappingproxy({'__dict__': <attribute '__dict__' of 'About' objects>,\n",
      "              '__doc__': 'this is about class',\n",
      "              '__init__': <function About.__init__ at 0x000002B042B60220>,\n",
      "              '__module__': '__main__',\n",
      "              '__str__': <function About.__str__ at 0x000002B0428F9620>,\n",
      "              '__weakref__': <attribute '__weakref__' of 'About' objects>,\n",
      "              'getDetails': <function About.getDetails at 0x000002B03D282660>})\n",
      "About\n",
      "this is about class\n"
     ]
    }
   ],
   "source": [
    "from pprint import pprint\n",
    "\n",
    "class About:\n",
    "    '''this is about class'''\n",
    "    def __init__(self,name):\n",
    "        self.name = name\n",
    "\n",
    "    def getDetails(self,name):\n",
    "        return f'my name is {self.name}'\n",
    "\n",
    "    def __str__(self) -> str:\n",
    "        return 'i am from __str__ function {self.name}'\n",
    "\n",
    "    def __str__(self) -> str:\n",
    "        return 'my name is kitty nd im a gd girl {self.name}'\n",
    "\n",
    "about = About(name = \"Sibani nayak\")\n",
    "print(about.getDetails(\"kitty\"))\n",
    "\n",
    "print(str(about))\n",
    "print(repr(about))\n",
    "pprint(About.__dict__)\n",
    "\n",
    "print(About.__name__)\n",
    "print(About.__doc__)"
   ]
  }
 ],
 "metadata": {
  "kernelspec": {
   "display_name": "Python 3",
   "language": "python",
   "name": "python3"
  },
  "language_info": {
   "codemirror_mode": {
    "name": "ipython",
    "version": 3
   },
   "file_extension": ".py",
   "mimetype": "text/x-python",
   "name": "python",
   "nbconvert_exporter": "python",
   "pygments_lexer": "ipython3",
   "version": "3.11.1"
  },
  "orig_nbformat": 4,
  "vscode": {
   "interpreter": {
    "hash": "de47f5c92c0ee6f12a59a5613ac5feff6aab19ddff207ba0b3964cced08c4ccc"
   }
  }
 },
 "nbformat": 4,
 "nbformat_minor": 2
}
