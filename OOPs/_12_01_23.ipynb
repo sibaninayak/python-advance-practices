{
 "cells": [
  {
   "cell_type": "code",
   "execution_count": 2,
   "metadata": {},
   "outputs": [
    {
     "name": "stdout",
     "output_type": "stream",
     "text": [
      "2124706167056\n",
      "2124706449504\n",
      "<class 'str'>\n",
      "<class 'function'>\n",
      "i am normal function\n",
      "i am outside variable\n",
      "I am outside variable\n"
     ]
    }
   ],
   "source": [
    "#for function\n",
    "outside = \"i am outside variable\"\n",
    "\n",
    "def function():\n",
    "    return \"i am normal function\"\n",
    "\n",
    "print(id(outside))\n",
    "print(id(function))\n",
    "print(type(outside))\n",
    "print(type(function))\n",
    "\n",
    "print(function())\n",
    "print(outside)\n",
    "print(outside.capitalize())   #(first letter will be capital)"
   ]
  },
  {
   "cell_type": "code",
   "execution_count": 3,
   "metadata": {},
   "outputs": [
    {
     "name": "stdout",
     "output_type": "stream",
     "text": [
      "kitty is a good girl\n",
      "lucky is a bad boy\n"
     ]
    }
   ],
   "source": [
    "#for class object\n",
    "class person:                                                                #class\n",
    "    kitty = \"kitty is a good girl\"                                           #variable\n",
    "    def lucky():                                                             #function\n",
    "        return \"lucky is a bad boy\"\n",
    "\n",
    "print(person.kitty)\n",
    "print(person.lucky())"
   ]
  },
  {
   "cell_type": "code",
   "execution_count": 7,
   "metadata": {},
   "outputs": [
    {
     "name": "stdout",
     "output_type": "stream",
     "text": [
      "<__main__.person object at 0x000001EEB2529950>\n",
      "2124705601872\n",
      "0x1eeb2609fd0\n",
      "2124683995536\n"
     ]
    }
   ],
   "source": [
    "class person:                                                               \n",
    "    kitty = \"kitty is a good girl\"                                        \n",
    "    def lucky():                                                            \n",
    "        return \"lucky is a bad boy\"\n",
    "\n",
    "#by taking another variable\n",
    "p1 = person()\n",
    "print(p1)\n",
    "print(id(p1))            #random id number\n",
    "print(hex(2124706521040))\n",
    "print(int(0x000001EEB108E990))"
   ]
  },
  {
   "cell_type": "code",
   "execution_count": 14,
   "metadata": {},
   "outputs": [
    {
     "name": "stdout",
     "output_type": "stream",
     "text": [
      "<__main__.person object at 0x000001EEB2AB1750>\n",
      "True\n"
     ]
    }
   ],
   "source": [
    "class person:                                                               \n",
    "    kitty = \"kitty is a good girl\"                                        \n",
    "   # def lucky():                                                            \n",
    "       # return \"lucky is a bad boy\"\n",
    "\n",
    "p1 = person()\n",
    "print(p1)\n",
    "\n",
    "print(isinstance(p1 , person))\n",
    "\n",
    "\n",
    "#isinstance : The isinstance() function checks if the object is an instance \n",
    "# or subclass of classinfo class."
   ]
  },
  {
   "cell_type": "code",
   "execution_count": 23,
   "metadata": {},
   "outputs": [
    {
     "name": "stdout",
     "output_type": "stream",
     "text": [
      "<__main__.person object at 0x000001EEB25DAA10>\n",
      "True\n",
      "<class 'type'>\n"
     ]
    }
   ],
   "source": [
    "class person:                                                               \n",
    "    kitty = \"kitty is a good girl\"                                        \n",
    "    #def lucky():                                                            \n",
    "      # return \"lucky is a bad boy\"\n",
    "\n",
    "p1 = person()\n",
    "p2 = person()\n",
    "print(p1)\n",
    "\n",
    "\n",
    "print(isinstance(p1 , person))\n",
    "print(type(person))\n",
    "#print(p1.__name__)"
   ]
  },
  {
   "cell_type": "code",
   "execution_count": 24,
   "metadata": {},
   "outputs": [
    {
     "name": "stdout",
     "output_type": "stream",
     "text": [
      "i am sibani nayak and i am from berhampur\n",
      "i am soubhagya kumar nayak and i am from bhubneswar\n"
     ]
    }
   ],
   "source": [
    "#for function \n",
    "def profile(**args):\n",
    "    return f'i am {args.get(\"name\")} and i am from {args.get(\"location\")}'\n",
    "\n",
    "\n",
    "kitty = profile(name='sibani nayak',location='berhampur')\n",
    "lucky = profile(name='soubhagya kumar nayak',location='bhubneswar')\n",
    "\n",
    "print(kitty)\n",
    "print(lucky)"
   ]
  },
  {
   "cell_type": "code",
   "execution_count": 26,
   "metadata": {},
   "outputs": [
    {
     "name": "stdout",
     "output_type": "stream",
     "text": [
      "my name is kitty\n",
      "<function person.quality at 0x000001EEB25FB740>\n"
     ]
    }
   ],
   "source": [
    "class person:                                                               \n",
    "    name = \"my name is kitty\"                                        \n",
    "    def quality():                                                            \n",
    "        return \"and i am a good girl\"\n",
    "\n",
    "name = getattr(person , \"name\")\n",
    "#quality = getattr(person , \"quality\")\n",
    "print(name)\n",
    "#print(quality)\n",
    "\n",
    "#get attribute = Python getattr() function is used to get the value of an object's attribute and \n",
    "# if no attribute of that object is found, default value is returned.\n"
   ]
  }
 ],
 "metadata": {
  "kernelspec": {
   "display_name": "Python 3",
   "language": "python",
   "name": "python3"
  },
  "language_info": {
   "codemirror_mode": {
    "name": "ipython",
    "version": 3
   },
   "file_extension": ".py",
   "mimetype": "text/x-python",
   "name": "python",
   "nbconvert_exporter": "python",
   "pygments_lexer": "ipython3",
   "version": "3.11.1"
  },
  "orig_nbformat": 4,
  "vscode": {
   "interpreter": {
    "hash": "de47f5c92c0ee6f12a59a5613ac5feff6aab19ddff207ba0b3964cced08c4ccc"
   }
  }
 },
 "nbformat": 4,
 "nbformat_minor": 2
}
