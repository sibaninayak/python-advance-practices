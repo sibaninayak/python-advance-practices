{
 "cells": [
  {
   "cell_type": "code",
   "execution_count": 3,
   "metadata": {},
   "outputs": [
    {
     "name": "stdout",
     "output_type": "stream",
     "text": [
      "None\n",
      "None\n"
     ]
    }
   ],
   "source": [
    "class counter:\n",
    "    def __init__(self):\n",
    "        self.current = 0\n",
    "    def increment(self):\n",
    "        self.current += 1\n",
    "    def decrement(self):\n",
    "        self.current -= 1\n",
    "    def value(self):\n",
    "        self.current = 0\n",
    "\n",
    "#constructor\n",
    "counter = counter()\n",
    "\n",
    "print(counter.value())\n",
    "\n",
    "counter.increment()\n",
    "counter.increment()\n",
    "counter.increment()\n",
    "\n",
    "#counter.reset()\n",
    "\n",
    "counter.decrement()\n",
    "\n",
    "counter.current = 1000\n",
    "print(counter.value())\n",
    "\n"
   ]
  },
  {
   "cell_type": "code",
   "execution_count": 5,
   "metadata": {},
   "outputs": [
    {
     "name": "stdout",
     "output_type": "stream",
     "text": [
      "0\n",
      "1000\n"
     ]
    }
   ],
   "source": [
    "class counter:\n",
    "    def __init__(self):\n",
    "        self.current = 0\n",
    "    def increment(self):\n",
    "        self.current += 1\n",
    "    def decrement(self):\n",
    "        self.current -= 1\n",
    "    def value(self):\n",
    "        self.current = 0\n",
    "\n",
    "#constructor\n",
    "counter = counter()\n",
    "\n",
    "print(counter.value())\n",
    "\n",
    "counter.increment()\n",
    "counter.increment()\n",
    "counter.increment()\n",
    "\n",
    "counter.reset()\n",
    "counter.decrement()\n",
    "\n",
    "counter.current = 1000\n",
    "print(counter.value())\n",
    "\n",
    "\n"
   ]
  },
  {
   "cell_type": "code",
   "execution_count": 6,
   "metadata": {},
   "outputs": [
    {
     "name": "stdout",
     "output_type": "stream",
     "text": [
      "None\n",
      "None\n"
     ]
    }
   ],
   "source": [
    "class counter:\n",
    "    def __init__(self):\n",
    "        self.current = 0\n",
    "    def increment(self):\n",
    "        self.current += 1\n",
    "    def decrement(self):\n",
    "        self.current -= 1\n",
    "    def value(self):\n",
    "        self.current = 0\n",
    "\n",
    "#constructor\n",
    "counter = counter()\n",
    "\n",
    "print(counter.value())\n",
    "\n",
    "counter.increment()\n",
    "counter.increment()\n",
    "counter.increment()\n",
    "\n",
    "#counter.reset()\n",
    "#counter.decrement()\n",
    "\n",
    "counter.current = 1000\n",
    "print(counter.value())\n"
   ]
  },
  {
   "cell_type": "code",
   "execution_count": 4,
   "metadata": {},
   "outputs": [
    {
     "name": "stdout",
     "output_type": "stream",
     "text": [
      "3.141\n",
      "3.141\n",
      "12.564\n"
     ]
    }
   ],
   "source": [
    "class Circle:\n",
    "\n",
    "    #class attribute\n",
    "     PII= 3.141\n",
    "\n",
    "     def __init__(self,radius):\n",
    "        self.pi = 3.141\n",
    "        self.radius = radius\n",
    "\n",
    "     def area(self):\n",
    "        return self.pi * self.radius**2\n",
    "  \n",
    "     def circumference(self):\n",
    "        return 2*self.pi*self.radius\n",
    "\n",
    "\n",
    "circle = Circle(2)\n",
    "print(circle.PII)\n",
    "print(circle.pi)\n",
    "print(circle.area())\n",
    "\n",
    "\n"
   ]
  }
 ],
 "metadata": {
  "kernelspec": {
   "display_name": "Python 3",
   "language": "python",
   "name": "python3"
  },
  "language_info": {
   "codemirror_mode": {
    "name": "ipython",
    "version": 3
   },
   "file_extension": ".py",
   "mimetype": "text/x-python",
   "name": "python",
   "nbconvert_exporter": "python",
   "pygments_lexer": "ipython3",
   "version": "3.11.1 (tags/v3.11.1:a7a450f, Dec  6 2022, 19:58:39) [MSC v.1934 64 bit (AMD64)]"
  },
  "orig_nbformat": 4,
  "vscode": {
   "interpreter": {
    "hash": "de47f5c92c0ee6f12a59a5613ac5feff6aab19ddff207ba0b3964cced08c4ccc"
   }
  }
 },
 "nbformat": 4,
 "nbformat_minor": 2
}
